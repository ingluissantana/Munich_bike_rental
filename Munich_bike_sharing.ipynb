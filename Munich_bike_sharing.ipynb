{
 "cells": [
  {
   "cell_type": "markdown",
   "metadata": {},
   "source": [
    "# import libraries"
   ]
  },
  {
   "cell_type": "code",
   "execution_count": 1,
   "metadata": {},
   "outputs": [],
   "source": [
    "# data manipulation \n",
    "import numpy as np\n",
    "import pandas as pd\n",
    "\n",
    "# plotting\n",
    "import seaborn as sn\n",
    "import matplotlib.pyplot as plt\n",
    "%matplotlib inline\n",
    "\n",
    "# setting params\n",
    "params = {'legend.fontsize': 'x-large',\n",
    "          'figure.figsize': (30, 10),\n",
    "          'axes.labelsize': 'x-large',\n",
    "          'axes.titlesize':'x-large',\n",
    "          'xtick.labelsize':'x-large',\n",
    "          'ytick.labelsize':'x-large'}\n",
    "\n",
    "sn.set_style('whitegrid')\n",
    "sn.set_context('talk')\n",
    "\n",
    "plt.rcParams.update(params)\n",
    "pd.options.display.max_colwidth = 600\n",
    "\n",
    "# pandas display data frames as tables\n",
    "from IPython.display import display, HTML\n"
   ]
  },
  {
   "cell_type": "markdown",
   "metadata": {},
   "source": [
    "# load dataset"
   ]
  },
  {
   "cell_type": "code",
   "execution_count": 2,
   "metadata": {},
   "outputs": [],
   "source": [
    "df = pd.read_csv('/Users/ingluissantana/Desktop/Py/PP1_bike_sharing_MVG/MVG_Rad_Fahrten_2021.csv', delimiter= ';', index_col=0)"
   ]
  },
  {
   "cell_type": "markdown",
   "metadata": {},
   "source": [
    "# quality and cleaning of the data"
   ]
  },
  {
   "cell_type": "code",
   "execution_count": 3,
   "metadata": {},
   "outputs": [],
   "source": [
    "#to make the data more readable i will change everything to lowercase and use a _ instead of a space\n",
    "\n",
    "df.columns = df.columns.str.lower().str.strip().str.replace(' ', '_')\n",
    "\n",
    "string_columns = list(df.dtypes[df.dtypes == 'object'].index)\n",
    "string_columns = string_columns[2:]\n",
    "\n",
    "for col in string_columns:\n",
    "    df[col] = df[col].str.lower().str.rstrip().str.replace(' ', '_')"
   ]
  },
  {
   "cell_type": "markdown",
   "metadata": {},
   "source": [
    "## changing the types to date format"
   ]
  },
  {
   "cell_type": "code",
   "execution_count": 4,
   "metadata": {},
   "outputs": [],
   "source": [
    "df['starttime'] = pd.to_datetime(df[\"starttime\"])\n",
    "df['endtime'] = pd.to_datetime(df[\"endtime\"])"
   ]
  },
  {
   "cell_type": "markdown",
   "metadata": {},
   "source": [
    "# quick view of the data"
   ]
  },
  {
   "cell_type": "code",
   "execution_count": 5,
   "metadata": {},
   "outputs": [
    {
     "data": {
      "text/html": [
       "<div>\n",
       "<style scoped>\n",
       "    .dataframe tbody tr th:only-of-type {\n",
       "        vertical-align: middle;\n",
       "    }\n",
       "\n",
       "    .dataframe tbody tr th {\n",
       "        vertical-align: top;\n",
       "    }\n",
       "\n",
       "    .dataframe thead th {\n",
       "        text-align: right;\n",
       "    }\n",
       "</style>\n",
       "<table border=\"1\" class=\"dataframe\">\n",
       "  <thead>\n",
       "    <tr style=\"text-align: right;\">\n",
       "      <th>Row</th>\n",
       "      <th>1</th>\n",
       "      <th>2</th>\n",
       "      <th>3</th>\n",
       "      <th>4</th>\n",
       "      <th>5</th>\n",
       "    </tr>\n",
       "  </thead>\n",
       "  <tbody>\n",
       "    <tr>\n",
       "      <th>starttime</th>\n",
       "      <td>2021-01-01 01:01:00</td>\n",
       "      <td>2021-01-01 01:19:00</td>\n",
       "      <td>2021-01-01 01:48:00</td>\n",
       "      <td>2021-01-01 01:48:00</td>\n",
       "      <td>2021-01-01 03:26:00</td>\n",
       "    </tr>\n",
       "    <tr>\n",
       "      <th>endtime</th>\n",
       "      <td>2021-01-01 01:12:00</td>\n",
       "      <td>2021-01-01 01:59:00</td>\n",
       "      <td>2021-01-01 02:01:00</td>\n",
       "      <td>2021-01-01 02:00:00</td>\n",
       "      <td>2021-01-01 03:39:00</td>\n",
       "    </tr>\n",
       "    <tr>\n",
       "      <th>startlat</th>\n",
       "      <td>48.1258</td>\n",
       "      <td>48.12919</td>\n",
       "      <td>48.08189</td>\n",
       "      <td>48.08189</td>\n",
       "      <td>48.11587</td>\n",
       "    </tr>\n",
       "    <tr>\n",
       "      <th>startlon</th>\n",
       "      <td>11.64784</td>\n",
       "      <td>11.62583</td>\n",
       "      <td>11.63264</td>\n",
       "      <td>11.63264</td>\n",
       "      <td>11.62543</td>\n",
       "    </tr>\n",
       "    <tr>\n",
       "      <th>endlat</th>\n",
       "      <td>48.12948</td>\n",
       "      <td>48.14853</td>\n",
       "      <td>48.07975</td>\n",
       "      <td>48.07975</td>\n",
       "      <td>48.109</td>\n",
       "    </tr>\n",
       "    <tr>\n",
       "      <th>endlon</th>\n",
       "      <td>11.62539</td>\n",
       "      <td>11.53142</td>\n",
       "      <td>11.61032</td>\n",
       "      <td>11.61032</td>\n",
       "      <td>11.6524</td>\n",
       "    </tr>\n",
       "    <tr>\n",
       "      <th>rental_is_station</th>\n",
       "      <td>1</td>\n",
       "      <td>0</td>\n",
       "      <td>1</td>\n",
       "      <td>1</td>\n",
       "      <td>0</td>\n",
       "    </tr>\n",
       "    <tr>\n",
       "      <th>rental_station_name</th>\n",
       "      <td>kreillerstraße</td>\n",
       "      <td></td>\n",
       "      <td>universitätsstraße_neubiberg</td>\n",
       "      <td>universitätsstraße_neubiberg</td>\n",
       "      <td></td>\n",
       "    </tr>\n",
       "    <tr>\n",
       "      <th>return_is_station</th>\n",
       "      <td>0</td>\n",
       "      <td>0</td>\n",
       "      <td>1</td>\n",
       "      <td>1</td>\n",
       "      <td>0</td>\n",
       "    </tr>\n",
       "    <tr>\n",
       "      <th>return_station_name</th>\n",
       "      <td></td>\n",
       "      <td></td>\n",
       "      <td>fasanenpark_ost_neubiberg</td>\n",
       "      <td>fasanenpark_ost_neubiberg</td>\n",
       "      <td></td>\n",
       "    </tr>\n",
       "  </tbody>\n",
       "</table>\n",
       "</div>"
      ],
      "text/plain": [
       "Row                                    1                    2  \\\n",
       "starttime            2021-01-01 01:01:00  2021-01-01 01:19:00   \n",
       "endtime              2021-01-01 01:12:00  2021-01-01 01:59:00   \n",
       "startlat                         48.1258             48.12919   \n",
       "startlon                        11.64784             11.62583   \n",
       "endlat                          48.12948             48.14853   \n",
       "endlon                          11.62539             11.53142   \n",
       "rental_is_station                      1                    0   \n",
       "rental_station_name       kreillerstraße                        \n",
       "return_is_station                      0                    0   \n",
       "return_station_name                                             \n",
       "\n",
       "Row                                             3  \\\n",
       "starttime                     2021-01-01 01:48:00   \n",
       "endtime                       2021-01-01 02:01:00   \n",
       "startlat                                 48.08189   \n",
       "startlon                                 11.63264   \n",
       "endlat                                   48.07975   \n",
       "endlon                                   11.61032   \n",
       "rental_is_station                               1   \n",
       "rental_station_name  universitätsstraße_neubiberg   \n",
       "return_is_station                               1   \n",
       "return_station_name     fasanenpark_ost_neubiberg   \n",
       "\n",
       "Row                                             4                    5  \n",
       "starttime                     2021-01-01 01:48:00  2021-01-01 03:26:00  \n",
       "endtime                       2021-01-01 02:00:00  2021-01-01 03:39:00  \n",
       "startlat                                 48.08189             48.11587  \n",
       "startlon                                 11.63264             11.62543  \n",
       "endlat                                   48.07975               48.109  \n",
       "endlon                                   11.61032              11.6524  \n",
       "rental_is_station                               1                    0  \n",
       "rental_station_name  universitätsstraße_neubiberg                       \n",
       "return_is_station                               1                    0  \n",
       "return_station_name     fasanenpark_ost_neubiberg                       "
      ]
     },
     "execution_count": 5,
     "metadata": {},
     "output_type": "execute_result"
    }
   ],
   "source": [
    "df.head().T"
   ]
  },
  {
   "cell_type": "code",
   "execution_count": 6,
   "metadata": {},
   "outputs": [
    {
     "name": "stdout",
     "output_type": "stream",
     "text": [
      "<class 'pandas.core.frame.DataFrame'>\n",
      "Int64Index: 619573 entries, 1 to 619573\n",
      "Data columns (total 10 columns):\n",
      " #   Column               Non-Null Count   Dtype         \n",
      "---  ------               --------------   -----         \n",
      " 0   starttime            619573 non-null  datetime64[ns]\n",
      " 1   endtime              619573 non-null  datetime64[ns]\n",
      " 2   startlat             619573 non-null  float64       \n",
      " 3   startlon             619573 non-null  float64       \n",
      " 4   endlat               619573 non-null  float64       \n",
      " 5   endlon               619573 non-null  float64       \n",
      " 6   rental_is_station    619573 non-null  int64         \n",
      " 7   rental_station_name  619573 non-null  object        \n",
      " 8   return_is_station    619573 non-null  int64         \n",
      " 9   return_station_name  619573 non-null  object        \n",
      "dtypes: datetime64[ns](2), float64(4), int64(2), object(2)\n",
      "memory usage: 52.0+ MB\n"
     ]
    }
   ],
   "source": [
    "df.info()"
   ]
  },
  {
   "cell_type": "markdown",
   "metadata": {},
   "source": [
    "# unique, duplicated and null values"
   ]
  },
  {
   "cell_type": "code",
   "execution_count": 7,
   "metadata": {},
   "outputs": [
    {
     "data": {
      "text/html": [
       "<div>\n",
       "<style scoped>\n",
       "    .dataframe tbody tr th:only-of-type {\n",
       "        vertical-align: middle;\n",
       "    }\n",
       "\n",
       "    .dataframe tbody tr th {\n",
       "        vertical-align: top;\n",
       "    }\n",
       "\n",
       "    .dataframe thead th {\n",
       "        text-align: right;\n",
       "    }\n",
       "</style>\n",
       "<table border=\"1\" class=\"dataframe\">\n",
       "  <thead>\n",
       "    <tr style=\"text-align: right;\">\n",
       "      <th></th>\n",
       "      <th>starttime</th>\n",
       "      <th>endtime</th>\n",
       "      <th>startlat</th>\n",
       "      <th>startlon</th>\n",
       "      <th>endlat</th>\n",
       "      <th>endlon</th>\n",
       "      <th>rental_is_station</th>\n",
       "      <th>rental_station_name</th>\n",
       "      <th>return_is_station</th>\n",
       "      <th>return_station_name</th>\n",
       "    </tr>\n",
       "  </thead>\n",
       "  <tbody>\n",
       "    <tr>\n",
       "      <th>count</th>\n",
       "      <td>619573</td>\n",
       "      <td>619573</td>\n",
       "      <td>619573</td>\n",
       "      <td>619573</td>\n",
       "      <td>619573</td>\n",
       "      <td>619573</td>\n",
       "      <td>619573</td>\n",
       "      <td>619573</td>\n",
       "      <td>619573</td>\n",
       "      <td>619573</td>\n",
       "    </tr>\n",
       "    <tr>\n",
       "      <th>size</th>\n",
       "      <td>619573</td>\n",
       "      <td>619573</td>\n",
       "      <td>619573</td>\n",
       "      <td>619573</td>\n",
       "      <td>619573</td>\n",
       "      <td>619573</td>\n",
       "      <td>619573</td>\n",
       "      <td>619573</td>\n",
       "      <td>619573</td>\n",
       "      <td>619573</td>\n",
       "    </tr>\n",
       "    <tr>\n",
       "      <th>nunique</th>\n",
       "      <td>272997</td>\n",
       "      <td>273299</td>\n",
       "      <td>14609</td>\n",
       "      <td>19791</td>\n",
       "      <td>15751</td>\n",
       "      <td>21161</td>\n",
       "      <td>2</td>\n",
       "      <td>321</td>\n",
       "      <td>2</td>\n",
       "      <td>319</td>\n",
       "    </tr>\n",
       "  </tbody>\n",
       "</table>\n",
       "</div>"
      ],
      "text/plain": [
       "         starttime  endtime  startlat  startlon  endlat  endlon  \\\n",
       "count       619573   619573    619573    619573  619573  619573   \n",
       "size        619573   619573    619573    619573  619573  619573   \n",
       "nunique     272997   273299     14609     19791   15751   21161   \n",
       "\n",
       "         rental_is_station  rental_station_name  return_is_station  \\\n",
       "count               619573               619573             619573   \n",
       "size                619573               619573             619573   \n",
       "nunique                  2                  321                  2   \n",
       "\n",
       "         return_station_name  \n",
       "count                 619573  \n",
       "size                  619573  \n",
       "nunique                  319  "
      ]
     },
     "execution_count": 7,
     "metadata": {},
     "output_type": "execute_result"
    }
   ],
   "source": [
    "df.agg(['count', 'size', 'nunique'])\n",
    "\n"
   ]
  },
  {
   "cell_type": "code",
   "execution_count": 8,
   "metadata": {},
   "outputs": [
    {
     "data": {
      "text/plain": [
       "starttime              False\n",
       "endtime                False\n",
       "startlat               False\n",
       "startlon               False\n",
       "endlat                 False\n",
       "endlon                 False\n",
       "rental_is_station      False\n",
       "rental_station_name    False\n",
       "return_is_station      False\n",
       "return_station_name    False\n",
       "dtype: bool"
      ]
     },
     "execution_count": 8,
     "metadata": {},
     "output_type": "execute_result"
    }
   ],
   "source": [
    "df.isnull().all()"
   ]
  },
  {
   "cell_type": "code",
   "execution_count": 9,
   "metadata": {},
   "outputs": [],
   "source": [
    "# duplicate = df[df.duplicated(string_columns)]\n",
    "# duplicate"
   ]
  },
  {
   "cell_type": "markdown",
   "metadata": {},
   "source": [
    "- valores duplicados no aportan informacion"
   ]
  },
  {
   "cell_type": "code",
   "execution_count": 31,
   "metadata": {},
   "outputs": [
    {
     "data": {
      "text/plain": [
       "rental_station_name             return_station_name\n",
       "                                                       359979\n",
       "sandstraße                                               2732\n",
       "münchner_freiheit                                        2641\n",
       "olympiazentrum                                           2412\n",
       "maillingerstraße                                         2084\n",
       "                                sandstraße               2019\n",
       "tum_arcisstraße                                          1987\n",
       "rotkreuzplatz                                            1971\n",
       "technische_universität_münchen                           1744\n",
       "leonrodplatz                                             1741\n",
       "universität                                              1716\n",
       "goetheplatz_(nord)                                       1610\n",
       "                                münchner_freiheit        1566\n",
       "                                rotkreuzplatz            1563\n",
       "hauptbahnhof_nord                                        1526\n",
       "hackerbrücke                                             1478\n",
       "                                olympiazentrum           1457\n",
       "max-weber-platz                                          1435\n",
       "                                maillingerstraße         1431\n",
       "josephsplatz                                             1397\n",
       "dtype: int64"
      ]
     },
     "execution_count": 31,
     "metadata": {},
     "output_type": "execute_result"
    }
   ],
   "source": [
    "visitados = df[string_columns].value_counts()\n",
    "visitados.head(20)\n"
   ]
  },
  {
   "cell_type": "code",
   "execution_count": null,
   "metadata": {},
   "outputs": [],
   "source": []
  },
  {
   "cell_type": "markdown",
   "metadata": {},
   "source": [
    "# eda"
   ]
  },
  {
   "cell_type": "code",
   "execution_count": null,
   "metadata": {},
   "outputs": [],
   "source": []
  }
 ],
 "metadata": {
  "kernelspec": {
   "display_name": "Python 3.9.11 ('ds')",
   "language": "python",
   "name": "python3"
  },
  "language_info": {
   "codemirror_mode": {
    "name": "ipython",
    "version": 3
   },
   "file_extension": ".py",
   "mimetype": "text/x-python",
   "name": "python",
   "nbconvert_exporter": "python",
   "pygments_lexer": "ipython3",
   "version": "3.9.11"
  },
  "orig_nbformat": 4,
  "vscode": {
   "interpreter": {
    "hash": "ede3e8bae0a6851235d1c7ac60a6e9405a6a53aba61d2accae1bb9a005fb917c"
   }
  }
 },
 "nbformat": 4,
 "nbformat_minor": 2
}
