{
 "cells": [
  {
   "cell_type": "markdown",
   "metadata": {},
   "source": [
    "# import libraries"
   ]
  },
  {
   "cell_type": "code",
   "execution_count": 1,
   "metadata": {},
   "outputs": [],
   "source": [
    "# data manipulation \n",
    "import numpy as np\n",
    "import pandas as pd\n",
    "\n",
    "# plotting\n",
    "import seaborn as sn\n",
    "import matplotlib.pyplot as plt\n",
    "%matplotlib inline\n",
    "import plotly. express as px\n",
    "from shapely.geometry import Point\n",
    "import geopandas as gpd\n",
    "from geopandas import GeoDataFrame\n",
    "\n",
    "# setting params\n",
    "params = {'legend.fontsize': 'x-large',\n",
    "          'figure.figsize': (30, 10),\n",
    "          'axes.labelsize': 'x-large',\n",
    "          'axes.titlesize':'x-large',\n",
    "          'xtick.labelsize':'x-large',\n",
    "          'ytick.labelsize':'x-large'}\n",
    "\n",
    "sn.set_style('whitegrid')\n",
    "sn.set_context('talk')\n",
    "\n",
    "plt.rcParams.update(params)\n",
    "pd.options.display.max_colwidth = 600\n",
    "\n",
    "# pandas display data frames as tables\n",
    "from IPython.display import display, HTML\n"
   ]
  },
  {
   "cell_type": "markdown",
   "metadata": {},
   "source": [
    "# load dataset"
   ]
  },
  {
   "cell_type": "code",
   "execution_count": 2,
   "metadata": {},
   "outputs": [],
   "source": [
    "df = pd.read_csv('/Users/ingluissantana/Desktop/Py/PP1_bike_sharing_MVG/MVG_Rad_Fahrten_2021.csv', delimiter= ';')"
   ]
  },
  {
   "cell_type": "markdown",
   "metadata": {},
   "source": [
    "# quality and cleaning of the data"
   ]
  },
  {
   "cell_type": "code",
   "execution_count": 3,
   "metadata": {},
   "outputs": [],
   "source": [
    "#to make the data more readable i will change everything to lowercase and use a _ instead of a space\n",
    "\n",
    "df.columns = df.columns.str.lower().str.strip().str.replace(' ', '_')\n",
    "\n",
    "string_columns = list(df.dtypes[df.dtypes == 'object'].index)\n",
    "string_columns = string_columns[2:]\n",
    "\n",
    "numerical_columns = list(df.dtypes[df.dtypes != 'object'].index)\n",
    "numerical_columns = numerical_columns[2:]\n",
    "\n",
    "for col in string_columns:\n",
    "    df[col] = df[col].str.lower().str.rstrip().str.replace(' ', '_')"
   ]
  },
  {
   "cell_type": "markdown",
   "metadata": {},
   "source": [
    "## changing the types to date format"
   ]
  },
  {
   "cell_type": "code",
   "execution_count": 4,
   "metadata": {},
   "outputs": [],
   "source": [
    "df['starttime'] = pd.to_datetime(df[\"starttime\"])\n",
    "df['endtime'] = pd.to_datetime(df[\"endtime\"])\n",
    "df['starttime'] = df['starttime'].astype('datetime64[s]')\n",
    "df['endtime'] = df['endtime'].astype('datetime64[s]')\n"
   ]
  },
  {
   "cell_type": "markdown",
   "metadata": {},
   "source": [
    "# quick view of the data"
   ]
  },
  {
   "cell_type": "code",
   "execution_count": 5,
   "metadata": {},
   "outputs": [
    {
     "data": {
      "text/html": [
       "<div>\n",
       "<style scoped>\n",
       "    .dataframe tbody tr th:only-of-type {\n",
       "        vertical-align: middle;\n",
       "    }\n",
       "\n",
       "    .dataframe tbody tr th {\n",
       "        vertical-align: top;\n",
       "    }\n",
       "\n",
       "    .dataframe thead th {\n",
       "        text-align: right;\n",
       "    }\n",
       "</style>\n",
       "<table border=\"1\" class=\"dataframe\">\n",
       "  <thead>\n",
       "    <tr style=\"text-align: right;\">\n",
       "      <th></th>\n",
       "      <th>0</th>\n",
       "      <th>1</th>\n",
       "      <th>2</th>\n",
       "      <th>3</th>\n",
       "      <th>4</th>\n",
       "    </tr>\n",
       "  </thead>\n",
       "  <tbody>\n",
       "    <tr>\n",
       "      <th>row</th>\n",
       "      <td>1</td>\n",
       "      <td>2</td>\n",
       "      <td>3</td>\n",
       "      <td>4</td>\n",
       "      <td>5</td>\n",
       "    </tr>\n",
       "    <tr>\n",
       "      <th>starttime</th>\n",
       "      <td>2021-01-01 01:01:00</td>\n",
       "      <td>2021-01-01 01:19:00</td>\n",
       "      <td>2021-01-01 01:48:00</td>\n",
       "      <td>2021-01-01 01:48:00</td>\n",
       "      <td>2021-01-01 03:26:00</td>\n",
       "    </tr>\n",
       "    <tr>\n",
       "      <th>endtime</th>\n",
       "      <td>2021-01-01 01:12:00</td>\n",
       "      <td>2021-01-01 01:59:00</td>\n",
       "      <td>2021-01-01 02:01:00</td>\n",
       "      <td>2021-01-01 02:00:00</td>\n",
       "      <td>2021-01-01 03:39:00</td>\n",
       "    </tr>\n",
       "    <tr>\n",
       "      <th>startlat</th>\n",
       "      <td>48.1258</td>\n",
       "      <td>48.12919</td>\n",
       "      <td>48.08189</td>\n",
       "      <td>48.08189</td>\n",
       "      <td>48.11587</td>\n",
       "    </tr>\n",
       "    <tr>\n",
       "      <th>startlon</th>\n",
       "      <td>11.64784</td>\n",
       "      <td>11.62583</td>\n",
       "      <td>11.63264</td>\n",
       "      <td>11.63264</td>\n",
       "      <td>11.62543</td>\n",
       "    </tr>\n",
       "    <tr>\n",
       "      <th>endlat</th>\n",
       "      <td>48.12948</td>\n",
       "      <td>48.14853</td>\n",
       "      <td>48.07975</td>\n",
       "      <td>48.07975</td>\n",
       "      <td>48.109</td>\n",
       "    </tr>\n",
       "    <tr>\n",
       "      <th>endlon</th>\n",
       "      <td>11.62539</td>\n",
       "      <td>11.53142</td>\n",
       "      <td>11.61032</td>\n",
       "      <td>11.61032</td>\n",
       "      <td>11.6524</td>\n",
       "    </tr>\n",
       "    <tr>\n",
       "      <th>rental_is_station</th>\n",
       "      <td>1</td>\n",
       "      <td>0</td>\n",
       "      <td>1</td>\n",
       "      <td>1</td>\n",
       "      <td>0</td>\n",
       "    </tr>\n",
       "    <tr>\n",
       "      <th>rental_station_name</th>\n",
       "      <td>kreillerstraße</td>\n",
       "      <td></td>\n",
       "      <td>universitätsstraße_neubiberg</td>\n",
       "      <td>universitätsstraße_neubiberg</td>\n",
       "      <td></td>\n",
       "    </tr>\n",
       "    <tr>\n",
       "      <th>return_is_station</th>\n",
       "      <td>0</td>\n",
       "      <td>0</td>\n",
       "      <td>1</td>\n",
       "      <td>1</td>\n",
       "      <td>0</td>\n",
       "    </tr>\n",
       "    <tr>\n",
       "      <th>return_station_name</th>\n",
       "      <td></td>\n",
       "      <td></td>\n",
       "      <td>fasanenpark_ost_neubiberg</td>\n",
       "      <td>fasanenpark_ost_neubiberg</td>\n",
       "      <td></td>\n",
       "    </tr>\n",
       "  </tbody>\n",
       "</table>\n",
       "</div>"
      ],
      "text/plain": [
       "                                       0                    1  \\\n",
       "row                                    1                    2   \n",
       "starttime            2021-01-01 01:01:00  2021-01-01 01:19:00   \n",
       "endtime              2021-01-01 01:12:00  2021-01-01 01:59:00   \n",
       "startlat                         48.1258             48.12919   \n",
       "startlon                        11.64784             11.62583   \n",
       "endlat                          48.12948             48.14853   \n",
       "endlon                          11.62539             11.53142   \n",
       "rental_is_station                      1                    0   \n",
       "rental_station_name       kreillerstraße                        \n",
       "return_is_station                      0                    0   \n",
       "return_station_name                                             \n",
       "\n",
       "                                                2  \\\n",
       "row                                             3   \n",
       "starttime                     2021-01-01 01:48:00   \n",
       "endtime                       2021-01-01 02:01:00   \n",
       "startlat                                 48.08189   \n",
       "startlon                                 11.63264   \n",
       "endlat                                   48.07975   \n",
       "endlon                                   11.61032   \n",
       "rental_is_station                               1   \n",
       "rental_station_name  universitätsstraße_neubiberg   \n",
       "return_is_station                               1   \n",
       "return_station_name     fasanenpark_ost_neubiberg   \n",
       "\n",
       "                                                3                    4  \n",
       "row                                             4                    5  \n",
       "starttime                     2021-01-01 01:48:00  2021-01-01 03:26:00  \n",
       "endtime                       2021-01-01 02:00:00  2021-01-01 03:39:00  \n",
       "startlat                                 48.08189             48.11587  \n",
       "startlon                                 11.63264             11.62543  \n",
       "endlat                                   48.07975               48.109  \n",
       "endlon                                   11.61032              11.6524  \n",
       "rental_is_station                               1                    0  \n",
       "rental_station_name  universitätsstraße_neubiberg                       \n",
       "return_is_station                               1                    0  \n",
       "return_station_name     fasanenpark_ost_neubiberg                       "
      ]
     },
     "execution_count": 5,
     "metadata": {},
     "output_type": "execute_result"
    }
   ],
   "source": [
    "df.head().T"
   ]
  },
  {
   "cell_type": "code",
   "execution_count": 6,
   "metadata": {},
   "outputs": [
    {
     "name": "stdout",
     "output_type": "stream",
     "text": [
      "<class 'pandas.core.frame.DataFrame'>\n",
      "RangeIndex: 619573 entries, 0 to 619572\n",
      "Data columns (total 11 columns):\n",
      " #   Column               Non-Null Count   Dtype         \n",
      "---  ------               --------------   -----         \n",
      " 0   row                  619573 non-null  int64         \n",
      " 1   starttime            619573 non-null  datetime64[ns]\n",
      " 2   endtime              619573 non-null  datetime64[ns]\n",
      " 3   startlat             619573 non-null  float64       \n",
      " 4   startlon             619573 non-null  float64       \n",
      " 5   endlat               619573 non-null  float64       \n",
      " 6   endlon               619573 non-null  float64       \n",
      " 7   rental_is_station    619573 non-null  int64         \n",
      " 8   rental_station_name  619573 non-null  object        \n",
      " 9   return_is_station    619573 non-null  int64         \n",
      " 10  return_station_name  619573 non-null  object        \n",
      "dtypes: datetime64[ns](2), float64(4), int64(3), object(2)\n",
      "memory usage: 52.0+ MB\n"
     ]
    }
   ],
   "source": [
    "df.info()"
   ]
  },
  {
   "cell_type": "markdown",
   "metadata": {},
   "source": [
    "# unique, duplicated and null values"
   ]
  },
  {
   "cell_type": "code",
   "execution_count": 7,
   "metadata": {},
   "outputs": [
    {
     "data": {
      "text/html": [
       "<div>\n",
       "<style scoped>\n",
       "    .dataframe tbody tr th:only-of-type {\n",
       "        vertical-align: middle;\n",
       "    }\n",
       "\n",
       "    .dataframe tbody tr th {\n",
       "        vertical-align: top;\n",
       "    }\n",
       "\n",
       "    .dataframe thead th {\n",
       "        text-align: right;\n",
       "    }\n",
       "</style>\n",
       "<table border=\"1\" class=\"dataframe\">\n",
       "  <thead>\n",
       "    <tr style=\"text-align: right;\">\n",
       "      <th></th>\n",
       "      <th>row</th>\n",
       "      <th>starttime</th>\n",
       "      <th>endtime</th>\n",
       "      <th>startlat</th>\n",
       "      <th>startlon</th>\n",
       "      <th>endlat</th>\n",
       "      <th>endlon</th>\n",
       "      <th>rental_is_station</th>\n",
       "      <th>rental_station_name</th>\n",
       "      <th>return_is_station</th>\n",
       "      <th>return_station_name</th>\n",
       "    </tr>\n",
       "  </thead>\n",
       "  <tbody>\n",
       "    <tr>\n",
       "      <th>count</th>\n",
       "      <td>619573</td>\n",
       "      <td>619573</td>\n",
       "      <td>619573</td>\n",
       "      <td>619573</td>\n",
       "      <td>619573</td>\n",
       "      <td>619573</td>\n",
       "      <td>619573</td>\n",
       "      <td>619573</td>\n",
       "      <td>619573</td>\n",
       "      <td>619573</td>\n",
       "      <td>619573</td>\n",
       "    </tr>\n",
       "    <tr>\n",
       "      <th>size</th>\n",
       "      <td>619573</td>\n",
       "      <td>619573</td>\n",
       "      <td>619573</td>\n",
       "      <td>619573</td>\n",
       "      <td>619573</td>\n",
       "      <td>619573</td>\n",
       "      <td>619573</td>\n",
       "      <td>619573</td>\n",
       "      <td>619573</td>\n",
       "      <td>619573</td>\n",
       "      <td>619573</td>\n",
       "    </tr>\n",
       "    <tr>\n",
       "      <th>nunique</th>\n",
       "      <td>619573</td>\n",
       "      <td>272997</td>\n",
       "      <td>273299</td>\n",
       "      <td>14609</td>\n",
       "      <td>19791</td>\n",
       "      <td>15751</td>\n",
       "      <td>21161</td>\n",
       "      <td>2</td>\n",
       "      <td>321</td>\n",
       "      <td>2</td>\n",
       "      <td>319</td>\n",
       "    </tr>\n",
       "  </tbody>\n",
       "</table>\n",
       "</div>"
      ],
      "text/plain": [
       "            row  starttime  endtime  startlat  startlon  endlat  endlon  \\\n",
       "count    619573     619573   619573    619573    619573  619573  619573   \n",
       "size     619573     619573   619573    619573    619573  619573  619573   \n",
       "nunique  619573     272997   273299     14609     19791   15751   21161   \n",
       "\n",
       "         rental_is_station  rental_station_name  return_is_station  \\\n",
       "count               619573               619573             619573   \n",
       "size                619573               619573             619573   \n",
       "nunique                  2                  321                  2   \n",
       "\n",
       "         return_station_name  \n",
       "count                 619573  \n",
       "size                  619573  \n",
       "nunique                  319  "
      ]
     },
     "execution_count": 7,
     "metadata": {},
     "output_type": "execute_result"
    }
   ],
   "source": [
    "df.agg(['count', 'size', 'nunique'])\n",
    "\n"
   ]
  },
  {
   "cell_type": "code",
   "execution_count": 8,
   "metadata": {},
   "outputs": [
    {
     "data": {
      "text/plain": [
       "row                    False\n",
       "starttime              False\n",
       "endtime                False\n",
       "startlat               False\n",
       "startlon               False\n",
       "endlat                 False\n",
       "endlon                 False\n",
       "rental_is_station      False\n",
       "rental_station_name    False\n",
       "return_is_station      False\n",
       "return_station_name    False\n",
       "dtype: bool"
      ]
     },
     "execution_count": 8,
     "metadata": {},
     "output_type": "execute_result"
    }
   ],
   "source": [
    "df.isnull().all()"
   ]
  },
  {
   "cell_type": "code",
   "execution_count": 9,
   "metadata": {},
   "outputs": [
    {
     "data": {
      "text/html": [
       "<div>\n",
       "<style scoped>\n",
       "    .dataframe tbody tr th:only-of-type {\n",
       "        vertical-align: middle;\n",
       "    }\n",
       "\n",
       "    .dataframe tbody tr th {\n",
       "        vertical-align: top;\n",
       "    }\n",
       "\n",
       "    .dataframe thead th {\n",
       "        text-align: right;\n",
       "    }\n",
       "</style>\n",
       "<table border=\"1\" class=\"dataframe\">\n",
       "  <thead>\n",
       "    <tr style=\"text-align: right;\">\n",
       "      <th></th>\n",
       "      <th>row</th>\n",
       "      <th>starttime</th>\n",
       "      <th>endtime</th>\n",
       "      <th>startlat</th>\n",
       "      <th>startlon</th>\n",
       "      <th>endlat</th>\n",
       "      <th>endlon</th>\n",
       "      <th>rental_is_station</th>\n",
       "      <th>rental_station_name</th>\n",
       "      <th>return_is_station</th>\n",
       "      <th>return_station_name</th>\n",
       "    </tr>\n",
       "  </thead>\n",
       "  <tbody>\n",
       "    <tr>\n",
       "      <th>3</th>\n",
       "      <td>4</td>\n",
       "      <td>2021-01-01 01:48:00</td>\n",
       "      <td>2021-01-01 02:00:00</td>\n",
       "      <td>48.08189</td>\n",
       "      <td>11.63264</td>\n",
       "      <td>48.07975</td>\n",
       "      <td>11.61032</td>\n",
       "      <td>1</td>\n",
       "      <td>universitätsstraße_neubiberg</td>\n",
       "      <td>1</td>\n",
       "      <td>fasanenpark_ost_neubiberg</td>\n",
       "    </tr>\n",
       "    <tr>\n",
       "      <th>4</th>\n",
       "      <td>5</td>\n",
       "      <td>2021-01-01 03:26:00</td>\n",
       "      <td>2021-01-01 03:39:00</td>\n",
       "      <td>48.11587</td>\n",
       "      <td>11.62543</td>\n",
       "      <td>48.10900</td>\n",
       "      <td>11.65240</td>\n",
       "      <td>0</td>\n",
       "      <td></td>\n",
       "      <td>0</td>\n",
       "      <td></td>\n",
       "    </tr>\n",
       "    <tr>\n",
       "      <th>6</th>\n",
       "      <td>7</td>\n",
       "      <td>2021-01-01 03:37:00</td>\n",
       "      <td>2021-01-01 04:05:00</td>\n",
       "      <td>48.16183</td>\n",
       "      <td>11.56665</td>\n",
       "      <td>48.17449</td>\n",
       "      <td>11.52564</td>\n",
       "      <td>0</td>\n",
       "      <td></td>\n",
       "      <td>0</td>\n",
       "      <td></td>\n",
       "    </tr>\n",
       "    <tr>\n",
       "      <th>7</th>\n",
       "      <td>8</td>\n",
       "      <td>2021-01-01 03:45:00</td>\n",
       "      <td>2021-01-01 04:16:00</td>\n",
       "      <td>48.15333</td>\n",
       "      <td>11.53426</td>\n",
       "      <td>48.17950</td>\n",
       "      <td>11.55080</td>\n",
       "      <td>0</td>\n",
       "      <td></td>\n",
       "      <td>0</td>\n",
       "      <td></td>\n",
       "    </tr>\n",
       "    <tr>\n",
       "      <th>8</th>\n",
       "      <td>9</td>\n",
       "      <td>2021-01-01 04:15:00</td>\n",
       "      <td>2021-01-01 04:28:00</td>\n",
       "      <td>48.12995</td>\n",
       "      <td>11.49411</td>\n",
       "      <td>48.14668</td>\n",
       "      <td>11.50734</td>\n",
       "      <td>0</td>\n",
       "      <td></td>\n",
       "      <td>0</td>\n",
       "      <td></td>\n",
       "    </tr>\n",
       "  </tbody>\n",
       "</table>\n",
       "</div>"
      ],
      "text/plain": [
       "   row           starttime             endtime  startlat  startlon    endlat  \\\n",
       "3    4 2021-01-01 01:48:00 2021-01-01 02:00:00  48.08189  11.63264  48.07975   \n",
       "4    5 2021-01-01 03:26:00 2021-01-01 03:39:00  48.11587  11.62543  48.10900   \n",
       "6    7 2021-01-01 03:37:00 2021-01-01 04:05:00  48.16183  11.56665  48.17449   \n",
       "7    8 2021-01-01 03:45:00 2021-01-01 04:16:00  48.15333  11.53426  48.17950   \n",
       "8    9 2021-01-01 04:15:00 2021-01-01 04:28:00  48.12995  11.49411  48.14668   \n",
       "\n",
       "     endlon  rental_is_station           rental_station_name  \\\n",
       "3  11.61032                  1  universitätsstraße_neubiberg   \n",
       "4  11.65240                  0                                 \n",
       "6  11.52564                  0                                 \n",
       "7  11.55080                  0                                 \n",
       "8  11.50734                  0                                 \n",
       "\n",
       "   return_is_station        return_station_name  \n",
       "3                  1  fasanenpark_ost_neubiberg  \n",
       "4                  0                             \n",
       "6                  0                             \n",
       "7                  0                             \n",
       "8                  0                             "
      ]
     },
     "execution_count": 9,
     "metadata": {},
     "output_type": "execute_result"
    }
   ],
   "source": [
    "duplicate = df[df.duplicated(string_columns)]\n",
    "duplicate.head()"
   ]
  },
  {
   "cell_type": "markdown",
   "metadata": {},
   "source": [
    "- valores duplicados no aportan informacion"
   ]
  },
  {
   "cell_type": "code",
   "execution_count": 10,
   "metadata": {},
   "outputs": [
    {
     "data": {
      "text/plain": [
       "rental_station_name             return_station_name\n",
       "                                                       359979\n",
       "sandstraße                                               2732\n",
       "münchner_freiheit                                        2641\n",
       "olympiazentrum                                           2412\n",
       "maillingerstraße                                         2084\n",
       "                                sandstraße               2019\n",
       "tum_arcisstraße                                          1987\n",
       "rotkreuzplatz                                            1971\n",
       "technische_universität_münchen                           1744\n",
       "leonrodplatz                                             1741\n",
       "universität                                              1716\n",
       "goetheplatz_(nord)                                       1610\n",
       "                                münchner_freiheit        1566\n",
       "                                rotkreuzplatz            1563\n",
       "hauptbahnhof_nord                                        1526\n",
       "hackerbrücke                                             1478\n",
       "                                olympiazentrum           1457\n",
       "max-weber-platz                                          1435\n",
       "                                maillingerstraße         1431\n",
       "josephsplatz                                             1397\n",
       "dtype: int64"
      ]
     },
     "execution_count": 10,
     "metadata": {},
     "output_type": "execute_result"
    }
   ],
   "source": [
    "visitados = df[string_columns].value_counts()\n",
    "visitados\n",
    "visitados.head(20)"
   ]
  },
  {
   "cell_type": "markdown",
   "metadata": {},
   "source": [
    "# eda"
   ]
  },
  {
   "cell_type": "code",
   "execution_count": 11,
   "metadata": {},
   "outputs": [],
   "source": [
    "# days of the week with more bike usage\n",
    "df['weekday'] = df['starttime'].dt.dayofweek\n",
    "\n"
   ]
  },
  {
   "cell_type": "code",
   "execution_count": 12,
   "metadata": {},
   "outputs": [
    {
     "data": {
      "text/plain": [
       "7"
      ]
     },
     "execution_count": 12,
     "metadata": {},
     "output_type": "execute_result"
    }
   ],
   "source": [
    "df.weekday.nunique()"
   ]
  },
  {
   "cell_type": "code",
   "execution_count": 13,
   "metadata": {},
   "outputs": [
    {
     "data": {
      "text/html": [
       "<div>\n",
       "<style scoped>\n",
       "    .dataframe tbody tr th:only-of-type {\n",
       "        vertical-align: middle;\n",
       "    }\n",
       "\n",
       "    .dataframe tbody tr th {\n",
       "        vertical-align: top;\n",
       "    }\n",
       "\n",
       "    .dataframe thead th {\n",
       "        text-align: right;\n",
       "    }\n",
       "</style>\n",
       "<table border=\"1\" class=\"dataframe\">\n",
       "  <thead>\n",
       "    <tr style=\"text-align: right;\">\n",
       "      <th></th>\n",
       "      <th>row</th>\n",
       "    </tr>\n",
       "    <tr>\n",
       "      <th>weekday</th>\n",
       "      <th></th>\n",
       "    </tr>\n",
       "  </thead>\n",
       "  <tbody>\n",
       "    <tr>\n",
       "      <th>0</th>\n",
       "      <td>78248</td>\n",
       "    </tr>\n",
       "    <tr>\n",
       "      <th>1</th>\n",
       "      <td>84160</td>\n",
       "    </tr>\n",
       "    <tr>\n",
       "      <th>2</th>\n",
       "      <td>85672</td>\n",
       "    </tr>\n",
       "    <tr>\n",
       "      <th>3</th>\n",
       "      <td>87083</td>\n",
       "    </tr>\n",
       "    <tr>\n",
       "      <th>4</th>\n",
       "      <td>96452</td>\n",
       "    </tr>\n",
       "    <tr>\n",
       "      <th>5</th>\n",
       "      <td>103728</td>\n",
       "    </tr>\n",
       "    <tr>\n",
       "      <th>6</th>\n",
       "      <td>84230</td>\n",
       "    </tr>\n",
       "  </tbody>\n",
       "</table>\n",
       "</div>"
      ],
      "text/plain": [
       "            row\n",
       "weekday        \n",
       "0         78248\n",
       "1         84160\n",
       "2         85672\n",
       "3         87083\n",
       "4         96452\n",
       "5        103728\n",
       "6         84230"
      ]
     },
     "execution_count": 13,
     "metadata": {},
     "output_type": "execute_result"
    }
   ],
   "source": [
    "count_weekday = df.groupby([\"weekday\"])[\"row\"].count()\n",
    "count_weekday = count_weekday.to_frame()\n",
    "count_weekday\n"
   ]
  },
  {
   "cell_type": "code",
   "execution_count": 14,
   "metadata": {},
   "outputs": [
    {
     "data": {
      "text/plain": [
       "<AxesSubplot:xlabel='weekday'>"
      ]
     },
     "execution_count": 14,
     "metadata": {},
     "output_type": "execute_result"
    },
    {
     "data": {
      "image/png": "[encoded data removed]",
      "text/plain": [
       "<Figure size 2160x720 with 1 Axes>"
      ]
     },
     "metadata": {},
     "output_type": "display_data"
    }
   ],
   "source": [
    "#plot the dataframe\n",
    "count_weekday.plot.bar()"
   ]
  },
  {
   "cell_type": "code",
   "execution_count": null,
   "metadata": {},
   "outputs": [],
   "source": []
  },
  {
   "cell_type": "code",
   "execution_count": 15,
   "metadata": {},
   "outputs": [],
   "source": [
    "# time of the day with more bike usage"
   ]
  },
  {
   "cell_type": "code",
   "execution_count": 16,
   "metadata": {},
   "outputs": [],
   "source": [
    "df['hoursday'] = df['starttime'].dt.hour"
   ]
  },
  {
   "cell_type": "code",
   "execution_count": 17,
   "metadata": {},
   "outputs": [
    {
     "data": {
      "text/plain": [
       "24"
      ]
     },
     "execution_count": 17,
     "metadata": {},
     "output_type": "execute_result"
    }
   ],
   "source": [
    "df.hoursday.nunique()"
   ]
  },
  {
   "cell_type": "code",
   "execution_count": 18,
   "metadata": {},
   "outputs": [
    {
     "data": {
      "text/html": [
       "<div>\n",
       "<style scoped>\n",
       "    .dataframe tbody tr th:only-of-type {\n",
       "        vertical-align: middle;\n",
       "    }\n",
       "\n",
       "    .dataframe tbody tr th {\n",
       "        vertical-align: top;\n",
       "    }\n",
       "\n",
       "    .dataframe thead th {\n",
       "        text-align: right;\n",
       "    }\n",
       "</style>\n",
       "<table border=\"1\" class=\"dataframe\">\n",
       "  <thead>\n",
       "    <tr style=\"text-align: right;\">\n",
       "      <th></th>\n",
       "      <th>row</th>\n",
       "    </tr>\n",
       "    <tr>\n",
       "      <th>hoursday</th>\n",
       "      <th></th>\n",
       "    </tr>\n",
       "  </thead>\n",
       "  <tbody>\n",
       "    <tr>\n",
       "      <th>0</th>\n",
       "      <td>9591</td>\n",
       "    </tr>\n",
       "    <tr>\n",
       "      <th>1</th>\n",
       "      <td>8493</td>\n",
       "    </tr>\n",
       "    <tr>\n",
       "      <th>2</th>\n",
       "      <td>5823</td>\n",
       "    </tr>\n",
       "    <tr>\n",
       "      <th>3</th>\n",
       "      <td>3420</td>\n",
       "    </tr>\n",
       "    <tr>\n",
       "      <th>4</th>\n",
       "      <td>2104</td>\n",
       "    </tr>\n",
       "    <tr>\n",
       "      <th>5</th>\n",
       "      <td>2468</td>\n",
       "    </tr>\n",
       "    <tr>\n",
       "      <th>6</th>\n",
       "      <td>5674</td>\n",
       "    </tr>\n",
       "    <tr>\n",
       "      <th>7</th>\n",
       "      <td>18109</td>\n",
       "    </tr>\n",
       "    <tr>\n",
       "      <th>8</th>\n",
       "      <td>33824</td>\n",
       "    </tr>\n",
       "    <tr>\n",
       "      <th>9</th>\n",
       "      <td>25507</td>\n",
       "    </tr>\n",
       "    <tr>\n",
       "      <th>10</th>\n",
       "      <td>23917</td>\n",
       "    </tr>\n",
       "    <tr>\n",
       "      <th>11</th>\n",
       "      <td>28961</td>\n",
       "    </tr>\n",
       "    <tr>\n",
       "      <th>12</th>\n",
       "      <td>37239</td>\n",
       "    </tr>\n",
       "    <tr>\n",
       "      <th>13</th>\n",
       "      <td>38297</td>\n",
       "    </tr>\n",
       "    <tr>\n",
       "      <th>14</th>\n",
       "      <td>39399</td>\n",
       "    </tr>\n",
       "    <tr>\n",
       "      <th>15</th>\n",
       "      <td>42524</td>\n",
       "    </tr>\n",
       "    <tr>\n",
       "      <th>16</th>\n",
       "      <td>48026</td>\n",
       "    </tr>\n",
       "    <tr>\n",
       "      <th>17</th>\n",
       "      <td>58395</td>\n",
       "    </tr>\n",
       "    <tr>\n",
       "      <th>18</th>\n",
       "      <td>58147</td>\n",
       "    </tr>\n",
       "    <tr>\n",
       "      <th>19</th>\n",
       "      <td>44982</td>\n",
       "    </tr>\n",
       "    <tr>\n",
       "      <th>20</th>\n",
       "      <td>30725</td>\n",
       "    </tr>\n",
       "    <tr>\n",
       "      <th>21</th>\n",
       "      <td>22102</td>\n",
       "    </tr>\n",
       "    <tr>\n",
       "      <th>22</th>\n",
       "      <td>18296</td>\n",
       "    </tr>\n",
       "    <tr>\n",
       "      <th>23</th>\n",
       "      <td>13550</td>\n",
       "    </tr>\n",
       "  </tbody>\n",
       "</table>\n",
       "</div>"
      ],
      "text/plain": [
       "            row\n",
       "hoursday       \n",
       "0          9591\n",
       "1          8493\n",
       "2          5823\n",
       "3          3420\n",
       "4          2104\n",
       "5          2468\n",
       "6          5674\n",
       "7         18109\n",
       "8         33824\n",
       "9         25507\n",
       "10        23917\n",
       "11        28961\n",
       "12        37239\n",
       "13        38297\n",
       "14        39399\n",
       "15        42524\n",
       "16        48026\n",
       "17        58395\n",
       "18        58147\n",
       "19        44982\n",
       "20        30725\n",
       "21        22102\n",
       "22        18296\n",
       "23        13550"
      ]
     },
     "execution_count": 18,
     "metadata": {},
     "output_type": "execute_result"
    }
   ],
   "source": [
    "count_hour = df.groupby([\"hoursday\"])[\"row\"].count()\n",
    "count_hour = count_hour.to_frame()\n",
    "count_hour"
   ]
  },
  {
   "cell_type": "code",
   "execution_count": 19,
   "metadata": {},
   "outputs": [
    {
     "data": {
      "text/plain": [
       "<AxesSubplot:xlabel='hoursday'>"
      ]
     },
     "execution_count": 19,
     "metadata": {},
     "output_type": "execute_result"
    },
    {
     "data": {
      "image/png": "[encoded data removed]",
      "text/plain": [
       "<Figure size 2160x720 with 1 Axes>"
      ]
     },
     "metadata": {},
     "output_type": "display_data"
    }
   ],
   "source": [
    "count_hour.plot.bar()"
   ]
  },
  {
   "cell_type": "code",
   "execution_count": 20,
   "metadata": {},
   "outputs": [],
   "source": [
    "# which station is the one with more starts"
   ]
  },
  {
   "cell_type": "code",
   "execution_count": 21,
   "metadata": {},
   "outputs": [
    {
     "data": {
      "text/plain": [
       "                                  427906\n",
       "sandstraße                          3747\n",
       "münchner_freiheit                   3670\n",
       "olympiazentrum                      3421\n",
       "maillingerstraße                    2794\n",
       "tum_arcisstraße                     2786\n",
       "rotkreuzplatz                       2718\n",
       "leonrodplatz                        2463\n",
       "universität                         2448\n",
       "technische_universität_münchen      2418\n",
       "Name: rental_station_name, dtype: int64"
      ]
     },
     "execution_count": 21,
     "metadata": {},
     "output_type": "execute_result"
    }
   ],
   "source": [
    "more_starts = df['rental_station_name'].value_counts()\n",
    "more_starts\n",
    "more_starts.head(10)"
   ]
  },
  {
   "cell_type": "code",
   "execution_count": 22,
   "metadata": {},
   "outputs": [],
   "source": [
    "# which station is the one with more ends"
   ]
  },
  {
   "cell_type": "code",
   "execution_count": 23,
   "metadata": {},
   "outputs": [
    {
     "data": {
      "text/plain": [
       "                     475481\n",
       "sandstraße             3119\n",
       "münchner_freiheit      2673\n",
       "olympiazentrum         2522\n",
       "rotkreuzplatz          2430\n",
       "maillingerstraße       2147\n",
       "hauptbahnhof_nord      2023\n",
       "leonrodplatz           1942\n",
       "universität            1899\n",
       "tum_arcisstraße        1877\n",
       "Name: return_station_name, dtype: int64"
      ]
     },
     "execution_count": 23,
     "metadata": {},
     "output_type": "execute_result"
    }
   ],
   "source": [
    "more_ends = df['return_station_name'].value_counts()\n",
    "more_ends\n",
    "more_ends.head(10)"
   ]
  },
  {
   "cell_type": "code",
   "execution_count": 24,
   "metadata": {},
   "outputs": [],
   "source": [
    "# visualize in a map the biggest usage sectors"
   ]
  },
  {
   "cell_type": "code",
   "execution_count": null,
   "metadata": {},
   "outputs": [],
   "source": [
    "https://juanitorduz.github.io/germany_plots/"
   ]
  }
 ],
 "metadata": {
  "kernelspec": {
   "display_name": "Python 3.9.11 ('ds')",
   "language": "python",
   "name": "python3"
  },
  "language_info": {
   "codemirror_mode": {
    "name": "ipython",
    "version": 3
   },
   "file_extension": ".py",
   "mimetype": "text/x-python",
   "name": "python",
   "nbconvert_exporter": "python",
   "pygments_lexer": "ipython3",
   "version": "3.9.11"
  },
  "orig_nbformat": 4,
  "vscode": {
   "interpreter": {
    "hash": "ede3e8bae0a6851235d1c7ac60a6e9405a6a53aba61d2accae1bb9a005fb917c"
   }
  }
 },
 "nbformat": 4,
 "nbformat_minor": 2
}
